{
 "cells": [
  {
   "cell_type": "markdown",
   "metadata": {},
   "source": [
    "# Limpieza y agrupación de datos"
   ]
  },
  {
   "cell_type": "code",
   "execution_count": 1,
   "metadata": {},
   "outputs": [],
   "source": [
    "# Importar las dependencias\n",
    "import pandas as pd"
   ]
  },
  {
   "cell_type": "code",
   "execution_count": 2,
   "metadata": {},
   "outputs": [],
   "source": [
    "# Declarar las variables\n",
    "years = ['2017']\n",
    "months = ['01','02','03','04','05','06','07','08','09','10','11','12']\n",
    "df_citibike2017 = pd.DataFrame()\n",
    "df_final = pd.DataFrame()"
   ]
  },
  {
   "cell_type": "code",
   "execution_count": 3,
   "metadata": {},
   "outputs": [],
   "source": [
    "# Recorre todos los archivos\n",
    "for year in years:\n",
    "    for month in months:\n",
    "        csv_file = '../Data/' + year + '/' + year + month + '-citibike-tripdata/' + year + month + '-citibike-tripdata.csv'\n",
    "        df_citibike = pd.read_csv(csv_file)\n",
    "        \n",
    "        df_citibike = df_citibike.rename(index=str, columns={'Bike ID':'bikeid', 'Birth Year':'birth year',\n",
    "                                       'End Station ID':'end station id',\n",
    "                                       'End Station Latitude':'end station latitude', 'End Station Longitude': 'end station longitude',\n",
    "                                       'End Station Name':'end station name', 'Gender':'gender', 'Start Station ID':'start station id',\n",
    "                                       'Start Station Latitude': 'start station latitude', 'Start Station Longitude':'start station longitude',\n",
    "                                       'Start Station Name': 'start station name', 'Start Time':'starttime','Stop Time': 'stoptime',\n",
    "                                       'Trip Duration': 'tripduration', 'User Type':'usertype'\n",
    "                                       })\n",
    "\n",
    "#        if year == '2017':\n",
    "#            df_citibike2017 = df_citibike2017.append(df_citibike)\n",
    "#            df_citibike2017[\"year\"] = year"
   ]
  },
  {
   "cell_type": "code",
   "execution_count": 4,
   "metadata": {},
   "outputs": [
    {
     "data": {
      "text/html": [
       "<div>\n",
       "<style scoped>\n",
       "    .dataframe tbody tr th:only-of-type {\n",
       "        vertical-align: middle;\n",
       "    }\n",
       "\n",
       "    .dataframe tbody tr th {\n",
       "        vertical-align: top;\n",
       "    }\n",
       "\n",
       "    .dataframe thead th {\n",
       "        text-align: right;\n",
       "    }\n",
       "</style>\n",
       "<table border=\"1\" class=\"dataframe\">\n",
       "  <thead>\n",
       "    <tr style=\"text-align: right;\">\n",
       "      <th></th>\n",
       "    </tr>\n",
       "  </thead>\n",
       "  <tbody>\n",
       "  </tbody>\n",
       "</table>\n",
       "</div>"
      ],
      "text/plain": [
       "Empty DataFrame\n",
       "Columns: []\n",
       "Index: []"
      ]
     },
     "execution_count": 4,
     "metadata": {},
     "output_type": "execute_result"
    }
   ],
   "source": [
    "df_citibike2017.head()"
   ]
  },
  {
   "cell_type": "code",
   "execution_count": 5,
   "metadata": {},
   "outputs": [
    {
     "data": {
      "text/plain": [
       "Index([], dtype='object')"
      ]
     },
     "execution_count": 5,
     "metadata": {},
     "output_type": "execute_result"
    }
   ],
   "source": [
    "df_citibike2017.columns"
   ]
  },
  {
   "cell_type": "code",
   "execution_count": 6,
   "metadata": {},
   "outputs": [],
   "source": [
    "# df_final = df_citibike2016.merge(df_citibike2017, how='outer')"
   ]
  },
  {
   "cell_type": "code",
   "execution_count": 7,
   "metadata": {},
   "outputs": [],
   "source": [
    "df_citibike2017.to_csv('../Data/citibike_2017.csv', sep = ',') "
   ]
  },
  {
   "cell_type": "code",
   "execution_count": null,
   "metadata": {},
   "outputs": [],
   "source": []
  }
 ],
 "metadata": {
  "kernelspec": {
   "display_name": "Python 3",
   "language": "python",
   "name": "python3"
  },
  "language_info": {
   "codemirror_mode": {
    "name": "ipython",
    "version": 3
   },
   "file_extension": ".py",
   "mimetype": "text/x-python",
   "name": "python",
   "nbconvert_exporter": "python",
   "pygments_lexer": "ipython3",
   "version": "3.7.3"
  }
 },
 "nbformat": 4,
 "nbformat_minor": 2
}
